{
 "cells": [
  {
   "cell_type": "markdown",
   "id": "572ba99e-c287-4403-85ae-062335525685",
   "metadata": {},
   "source": [
    "## **Identify and analyze plant regions**"
   ]
  },
  {
   "cell_type": "code",
   "execution_count": 19,
   "id": "d5044a7a-8e6b-4a23-806f-ef184d59059e",
   "metadata": {},
   "outputs": [],
   "source": [
    "image_path = 'images/P1/D5/Stage 1/IMG_6749.jpg'"
   ]
  },
  {
   "cell_type": "code",
   "execution_count": 20,
   "id": "43efd15e-6ec0-4c2e-b6fa-d57229d0531d",
   "metadata": {},
   "outputs": [
    {
     "name": "stdout",
     "output_type": "stream",
     "text": [
      "Area: 194734.50, Perimeter: 8103.38, Aspect Ratio: 0.59, Centroid: (1397, 720)\n"
     ]
    }
   ],
   "source": [
    "import cv2\n",
    "import numpy as np\n",
    "\n",
    "def analyze_plant_region(image_path):\n",
    "    # Step 1: Image Acquisition\n",
    "    image = cv2.imread(image_path)\n",
    "    original_image = image.copy()\n",
    "\n",
    "    # Step 2: Preprocessing\n",
    "    hsv_image = cv2.cvtColor(image, cv2.COLOR_BGR2HSV)\n",
    "    blurred_image = cv2.GaussianBlur(hsv_image, (5, 5), 0)\n",
    "\n",
    "    # Step 3: Segmentation\n",
    "    lower_green = np.array([30, 40, 40])  # Adjust these values as needed\n",
    "    upper_green = np.array([90, 255, 255])\n",
    "    mask = cv2.inRange(blurred_image, lower_green, upper_green)\n",
    "\n",
    "    # Apply morphological operations to clean up the mask\n",
    "    kernel = np.ones((5, 5), np.uint8)\n",
    "    cleaned_mask = cv2.morphologyEx(mask, cv2.MORPH_CLOSE, kernel)\n",
    "    cleaned_mask = cv2.morphologyEx(cleaned_mask, cv2.MORPH_OPEN, kernel)\n",
    "\n",
    "    # Step 4: Contour Detection\n",
    "    contours, _ = cv2.findContours(cleaned_mask, cv2.RETR_EXTERNAL, cv2.CHAIN_APPROX_SIMPLE)\n",
    "\n",
    "    # Step 5: Feature Extraction and Analysis\n",
    "    for contour in contours:\n",
    "        area = cv2.contourArea(contour)\n",
    "        perimeter = cv2.arcLength(contour, True)\n",
    "        bounding_box = cv2.boundingRect(contour)\n",
    "        x, y, w, h = bounding_box\n",
    "        aspect_ratio = float(w) / h if h != 0 else 0\n",
    "        \n",
    "        # Filter out small contours or contours that are too wide or too tall\n",
    "        if area < 500:  # Adjust this threshold based on your image\n",
    "            continue\n",
    "        if aspect_ratio < 0.2 or aspect_ratio > 5:  # Adjust aspect ratio limits as needed\n",
    "            continue\n",
    "\n",
    "        # Calculate centroid\n",
    "        M = cv2.moments(contour)\n",
    "        if M['m00'] != 0:\n",
    "            centroid = (int(M['m10'] / M['m00']), int(M['m01'] / M['m00']))\n",
    "        else:\n",
    "            centroid = (0, 0)\n",
    "\n",
    "        # Optional: Print or log the features\n",
    "        print(f\"Area: {area:.2f}, Perimeter: {perimeter:.2f}, Aspect Ratio: {aspect_ratio:.2f}, Centroid: {centroid}\")\n",
    "\n",
    "        # Step 6: Visualization\n",
    "        # Draw the contour as a border\n",
    "        cv2.drawContours(original_image, [contour], -1, (0, 255, 0), 10)  # Green border with thickness 10\n",
    "        cv2.putText(original_image, f'Area: {area:.2f}', (x, y - 10), cv2.FONT_HERSHEY_SIMPLEX, 5, (255, 0, 0), 10)\n",
    "\n",
    "    # Step 7: Output Results\n",
    "    cv2.imshow('Original Image with Analyzed Plant Region', original_image)\n",
    "    cv2.imshow('Mask', cleaned_mask)\n",
    "    cv2.waitKey(0)\n",
    "    cv2.destroyAllWindows()\n",
    "\n",
    "# Example usage\n",
    "analyze_plant_region(image_path)"
   ]
  }
 ],
 "metadata": {
  "kernelspec": {
   "display_name": "Python 3 (ipykernel)",
   "language": "python",
   "name": "python3"
  },
  "language_info": {
   "codemirror_mode": {
    "name": "ipython",
    "version": 3
   },
   "file_extension": ".py",
   "mimetype": "text/x-python",
   "name": "python",
   "nbconvert_exporter": "python",
   "pygments_lexer": "ipython3",
   "version": "3.12.7"
  }
 },
 "nbformat": 4,
 "nbformat_minor": 5
}
