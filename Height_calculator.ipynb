{
 "cells": [
  {
   "cell_type": "markdown",
   "id": "b74d3939-94cc-4926-bbb1-a5f0e9931453",
   "metadata": {},
   "source": [
    "## **Plant height measure**"
   ]
  },
  {
   "cell_type": "code",
   "execution_count": 7,
   "id": "fd8a3f65-516a-4936-af80-fd202bcef0a9",
   "metadata": {},
   "outputs": [
    {
     "data": {
      "image/png": "[encoded data removed]",
      "text/plain": [
       "<Figure size 1000x500 with 1 Axes>"
      ]
     },
     "metadata": {},
     "output_type": "display_data"
    }
   ],
   "source": [
    "import cv2\n",
    "import numpy as np\n",
    "import matplotlib.pyplot as plt\n",
    "from pathlib import Path\n",
    "\n",
    "def preprocess_image(image_path):\n",
    "    image = cv2.imread(str(image_path))\n",
    "    hsv_image = cv2.cvtColor(image, cv2.COLOR_BGR2HSV)\n",
    "    blurred_image = cv2.GaussianBlur(hsv_image, (5, 5), 0)\n",
    "    return blurred_image, image\n",
    "\n",
    "def segment_plant(blurred_image):\n",
    "    lower_green = np.array([30, 40, 40])  # Adjust these values as needed\n",
    "    upper_green = np.array([90, 255, 255])\n",
    "    mask = cv2.inRange(blurred_image, lower_green, upper_green)\n",
    "\n",
    "    # Apply morphological opening to remove small noise\n",
    "    kernel = np.ones((5, 5), np.uint8)  # Define a kernel for morphological operations\n",
    "    mask = cv2.morphologyEx(mask, cv2.MORPH_OPEN, kernel)  # Apply opening\n",
    "    return mask\n",
    "\n",
    "def extract_features(mask):\n",
    "    contours, _ = cv2.findContours(mask, cv2.RETR_EXTERNAL, cv2.CHAIN_APPROX_SIMPLE)\n",
    "    features = []\n",
    "    for contour in contours:\n",
    "        area = cv2.contourArea(contour)\n",
    "        if area > 500:  # Filter small contours\n",
    "            bounding_box = cv2.boundingRect(contour)\n",
    "            height = bounding_box[3]  # Height of the bounding box in pixels\n",
    "            features.append((area, height, bounding_box))\n",
    "    return features\n",
    "\n",
    "def measure_height_in_cm(pixel_height, reference_height_cm, image_height_pixels):\n",
    "    return (pixel_height / image_height_pixels) * reference_height_cm\n",
    "\n",
    "def visualize_growth(image, mask, features, reference_height_cm, image_height_pixels):\n",
    "    plt.figure(figsize=(10, 5))\n",
    "    plt.subplot(1, 2, 1)\n",
    "    \n",
    "    # Display original image\n",
    "    rgb_image = cv2.cvtColor(image, cv2.COLOR_BGR2RGB)\n",
    "    plt.imshow(rgb_image)\n",
    "    \n",
    "    # Draw bounding boxes on original image\n",
    "    for area, height, bounding_box in features:\n",
    "        x, y, w, h = bounding_box\n",
    "        # Add rectangle to the plot\n",
    "        rect = plt.Rectangle((x, y), w, h, linewidth=2, edgecolor='red', facecolor='none')\n",
    "        plt.gca().add_patch(rect)\n",
    "        \n",
    "        # Calculate and display height measurement\n",
    "        plant_height_cm = measure_height_in_cm(height, reference_height_cm, image_height_pixels)\n",
    "        plt.text(x, y-10, f'Height: {plant_height_cm:.2f} cm', color='blue', fontsize=9, \n",
    "                 bbox=dict(facecolor='white', alpha=0.7))\n",
    "    \n",
    "    plt.title('Original Image')\n",
    "    plt.axis('off')\n",
    "\n",
    "    plt.subplot(1, 2, 2)\n",
    "    plt.imshow(mask, cmap='gray')\n",
    "    plt.title('Segmented Mask')\n",
    "    plt.axis('off')\n",
    "\n",
    "    plt.tight_layout()\n",
    "    plt.show()\n",
    "    return [measure_height_in_cm(height, reference_height_cm, image_height_pixels) for _, height, _ in features]\n",
    "\n",
    "# Example usage for multiple images\n",
    "image_paths = []\n",
    "input_path = Path('images/height')\n",
    "for image_file in input_path.rglob('*.jpg'):\n",
    "        image_paths.append(image_file)\n",
    "\n",
    "reference_height_cm = 25  # Height of the reference object in cm\n",
    "growth_data = []\n",
    "\n",
    "for image_path in image_paths:\n",
    "    blurred_image, original_image = preprocess_image(image_path)\n",
    "    mask = segment_plant(blurred_image)\n",
    "    features = extract_features(mask)\n",
    "\n",
    "    # Use the height of the original image as the reference height in pixels\n",
    "    image_height_pixels = original_image.shape[0]\n",
    "    \n",
    "    heights = visualize_growth(original_image, mask, features, reference_height_cm, image_height_pixels)\n",
    "    growth_data.append(np.mean(heights) if heights else 0)  # Store average height for the image\n",
    "\n",
    "# Plotting the growth analysis graph\n",
    "plt.figure(figsize=(10, 5))\n",
    "plt.plot(range(1, len(growth_data) + 1), growth_data, marker='o')\n",
    "plt.title('Plant Growth Analysis Over Time')\n",
    "plt.xlabel('Image Number')\n",
    "plt.ylabel('Average Height (cm)')\n",
    "plt.xticks(range(1, len(growth_data) + 1))\n",
    "plt.grid()\n",
    "plt.show()"
   ]
  },
  {
   "cell_type": "code",
   "execution_count": null,
   "id": "3cb986cd-7cfe-4973-a278-cb29d91ec0c1",
   "metadata": {},
   "outputs": [],
   "source": []
  }
 ],
 "metadata": {
  "kernelspec": {
   "display_name": "Python 3 (ipykernel)",
   "language": "python",
   "name": "python3"
  },
  "language_info": {
   "codemirror_mode": {
    "name": "ipython",
    "version": 3
   },
   "file_extension": ".py",
   "mimetype": "text/x-python",
   "name": "python",
   "nbconvert_exporter": "python",
   "pygments_lexer": "ipython3",
   "version": "3.12.7"
  }
 },
 "nbformat": 4,
 "nbformat_minor": 5
}
