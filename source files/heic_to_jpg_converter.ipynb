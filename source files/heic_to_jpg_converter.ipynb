{
 "cells": [
  {
   "cell_type": "markdown",
   "id": "bb8fa1e6-28fa-41f3-87dd-c5d6819a4299",
   "metadata": {},
   "source": [
    "## **HEIC to JPG Convertor**"
   ]
  },
  {
   "cell_type": "code",
   "execution_count": 19,
   "id": "8176dc3b-ce11-40c4-bd86-dcbe84c2de30",
   "metadata": {},
   "outputs": [],
   "source": [
    "from PIL import Image\n",
    "from pathlib import Path\n",
    "from pillow_heif import register_heif_opener\n",
    "\n",
    "register_heif_opener()\n",
    "\n",
    "def convert_heic_to_jpg(directory):\n",
    "\n",
    "    directory_path = Path(directory)\n",
    "    \n",
    "    for image_file in directory_path.rglob(\"*.[hH][eE][iI][Cc]\"):\n",
    "        print(f\"Converting: {image_file.name}\")\n",
    "        \n",
    "        image = Image.open(image_file)\n",
    "            \n",
    "        new_name = f\"{image_file.stem}.jpg\"\n",
    "        image.convert('RGB').save(new_name)\n",
    "        print(f\"Saved as: {new_name}\")\n",
    "\n",
    "convert_heic_to_jpg(\"images/P3/D6/Stage 3\")"
   ]
  },
  {
   "cell_type": "code",
   "execution_count": 18,
   "id": "2a5969fe-3016-4c3c-9e32-1c3e3ae0850f",
   "metadata": {},
   "outputs": [],
   "source": [
    "from PIL import Image\n",
    "from pathlib import Path\n",
    "from pillow_heif import register_heif_opener\n",
    "\n",
    "register_heif_opener()\n",
    "\n",
    "def convert_heic_to_jpg(input_directory, output_directory):\n",
    "    # Ensure output directory exists\n",
    "    output_path = Path(output_directory)\n",
    "    output_path.mkdir(parents=True, exist_ok=True)\n",
    "\n",
    "    input_path = Path(input_directory)\n",
    "    \n",
    "    for image_file in input_path.rglob(\"*.[hH][eE][iI][Cc]\"):\n",
    "        print(f\"Converting: {image_file.name}\")\n",
    "        \n",
    "        # Open HEIC image\n",
    "        image = Image.open(image_file)\n",
    "        \n",
    "        # Construct the output file path\n",
    "        new_name = output_path / f\"{image_file.stem}.jpg\"\n",
    "        \n",
    "        # Save as JPG\n",
    "        image.convert('RGB').save(new_name)\n",
    "        print(f\"Saved as: {new_name}\")\n",
    "\n",
    "# Example usage\n",
    "day = 6\n",
    "stage = 3\n",
    "convert_heic_to_jpg(f\"images/P3/D{day}/Stage {stage}\", f\"images/P3/D{day}/Stage {stage}\")"
   ]
  }
 ],
 "metadata": {
  "kernelspec": {
   "display_name": "Python 3 (ipykernel)",
   "language": "python",
   "name": "python3"
  },
  "language_info": {
   "codemirror_mode": {
    "name": "ipython",
    "version": 3
   },
   "file_extension": ".py",
   "mimetype": "text/x-python",
   "name": "python",
   "nbconvert_exporter": "python",
   "pygments_lexer": "ipython3",
   "version": "3.12.7"
  }
 },
 "nbformat": 4,
 "nbformat_minor": 5
}
